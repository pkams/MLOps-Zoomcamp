{
 "cells": [
  {
   "cell_type": "code",
   "execution_count": 30,
   "metadata": {},
   "outputs": [],
   "source": [
    "import os\n",
    "import sys\n",
    "\n",
    "import uuid\n",
    "import pickle\n",
    "\n",
    "import pandas as pd\n",
    "\n",
    "import mlflow\n",
    "\n",
    "from sklearn.feature_extraction import DictVectorizer\n",
    "from sklearn.ensemble import RandomForestRegressor\n",
    "from sklearn.metrics import mean_squared_error\n",
    "from sklearn.pipeline import make_pipeline"
   ]
  },
  {
   "cell_type": "code",
   "execution_count": 31,
   "metadata": {},
   "outputs": [],
   "source": [
    "mlflow.set_tracking_uri(\"http://127.0.0.1:5000\")"
   ]
  },
  {
   "cell_type": "code",
   "execution_count": 32,
   "metadata": {},
   "outputs": [],
   "source": [
    "# Create unique ids\n",
    "def generate_uuids(n):\n",
    "    ride_ids = []\n",
    "    for i in range(n):\n",
    "        ride_ids.append(str(uuid.uuid4()))\n",
    "    return ride_ids"
   ]
  },
  {
   "cell_type": "code",
   "execution_count": 33,
   "metadata": {},
   "outputs": [
    {
     "data": {
      "text/plain": [
       "['780330a6-9db9-449e-8b58-be4087e12a2e',\n",
       " 'f1e96586-ae6b-4a03-ad68-3eaf7bc45a77',\n",
       " '6135995a-e1c8-4420-9127-3e914ddda8a8']"
      ]
     },
     "execution_count": 33,
     "metadata": {},
     "output_type": "execute_result"
    }
   ],
   "source": [
    "generate_uuids(3)"
   ]
  },
  {
   "cell_type": "code",
   "execution_count": 34,
   "metadata": {},
   "outputs": [],
   "source": [
    "def read_dataframe(filename: str):\n",
    "    df = pd.read_parquet(filename)\n",
    "\n",
    "    df['duration'] = df.lpep_dropoff_datetime - df.lpep_pickup_datetime\n",
    "    df.duration = df.duration.dt.total_seconds() / 60\n",
    "    df = df[(df.duration >= 1) & (df.duration <= 60)]\n",
    "    \n",
    "    df['ride_id'] = generate_uuids(len(df))\n",
    "\n",
    "    return df\n",
    "\n",
    "def prepare_dictionaries(df: pd.DataFrame):\n",
    "    categorical = ['PULocationID', 'DOLocationID']\n",
    "    df[categorical] = df[categorical].astype(str)\n",
    "    \n",
    "    #df['PU_DO'] = df['PULocationID'] + '_' + df['DOLocationID']\n",
    "    #categorical = ['PU_DO']\n",
    "    # i used another model\n",
    "    \n",
    "    numerical = ['trip_distance']\n",
    "    dicts = df[categorical + numerical].to_dict(orient='records')\n",
    "    return dicts\n",
    "\n",
    "\n",
    "def load_model(run_id):\n",
    "    #logged_model = f's3://mlflow-models-alexey/1/{run_id}/artifacts/model'\n",
    "    #logged_model  = f\"runs:/{run_id}/models_pickle\"\n",
    "    #logged_model = f\"runs:/{run_id}/model\"\n",
    "    #logged_model = f\"Users/Usuario/Desktop/ML Zoomcamp/2.ML Flow/mlruns/1/{run_id}/artifacts/models_pickle/\"\n",
    "    #logged_model = f\"file:/Users/Usuario/Desktop/ML Zoomcamp/2.ML Flow/mlruns/1/{run_id}/artifacts/model\"\n",
    "    logged_model = f'runs:/b5eb4a60a4934bba8ccd86bf71d3f9fa/models_pickle'\n",
    "    print(logged_model)\n",
    "    model = mlflow.pyfunc.load_model(logged_model)\n",
    "    return model"
   ]
  },
  {
   "cell_type": "code",
   "execution_count": 35,
   "metadata": {},
   "outputs": [],
   "source": [
    "def apply_model(input_file, run_id, output_file):\n",
    "    print(f'reading the data from {input_file}...')\n",
    "    df = read_dataframe(input_file)\n",
    "    dicts = prepare_dictionaries(df)\n",
    "\n",
    "    print(f'loading the model with RUN_ID={run_id}...')\n",
    "    model = load_model(run_id)\n",
    "\n",
    "    print(f'applying the model...')\n",
    "    y_pred = model.predict(dicts)\n",
    "\n",
    "    print(f'saving the result to {output_file}...')\n",
    "    df_result = pd.DataFrame()\n",
    "    df_result['ride_id'] = df['ride_id']\n",
    "    df_result['lpep_pickup_datetime'] = df['lpep_pickup_datetime']\n",
    "    df_result['PULocationID'] = df['PULocationID']\n",
    "    df_result['DOLocationID'] = df['DOLocationID']\n",
    "    df_result['actual_duration'] = df['duration']\n",
    "    df_result['predicted_duration'] = y_pred\n",
    "    df_result['diff'] = df_result['actual_duration'] - df_result['predicted_duration']\n",
    "    df_result['model_version'] = run_id\n",
    "    \n",
    "    print(output_file)\n",
    "    df_result.to_parquet(output_file, index=False)\n",
    "    df_result.to_csv(output_file.replace('.parquet', '.csv'), index=False, sep=';')\n"
   ]
  },
  {
   "cell_type": "code",
   "execution_count": 36,
   "metadata": {},
   "outputs": [],
   "source": [
    "def run():\n",
    "    #taxi_type = sys.argv[1] # 'green'\n",
    "    #year = int(sys.argv[2]) # 2021\n",
    "    #month = int(sys.argv[3]) # 3\n",
    "    \n",
    "    taxi_type = 'green'\n",
    "    year = 2021\n",
    "    month =  3\n",
    "    \n",
    "    input_file = f'data/{taxi_type}_tripdata_{year:04d}-{month:02d}.parquet'\n",
    "    #output_file = f'output/{taxi_type}/{year:04d}-{month:02d}.parquet'\n",
    "    output_file = f'output/{taxi_type}_tripdata_{year:04d}-{month:02d}.parquet'\n",
    "\n",
    "    #run_id = sys.argv[4] # 'e1efc53e9bd149078b0c12aeaa6365df'\n",
    "    run_id ='6ce6efecdd8e4805884aaae93fa3348c'\n",
    "\n",
    "    apply_model(\n",
    "        input_file=input_file,\n",
    "        run_id=run_id,\n",
    "        output_file=output_file\n",
    "    )"
   ]
  },
  {
   "cell_type": "code",
   "execution_count": 37,
   "metadata": {
    "scrolled": true
   },
   "outputs": [
    {
     "name": "stdout",
     "output_type": "stream",
     "text": [
      "reading the data from data/green_tripdata_2021-03.parquet...\n",
      "loading the model with RUN_ID=6ce6efecdd8e4805884aaae93fa3348c...\n",
      "runs:/b5eb4a60a4934bba8ccd86bf71d3f9fa/models_pickle\n",
      "applying the model...\n",
      "saving the result to output/green_tripdata_2021-03.parquet...\n",
      "output/green_tripdata_2021-03.parquet\n"
     ]
    }
   ],
   "source": [
    "run()"
   ]
  },
  {
   "cell_type": "code",
   "execution_count": 39,
   "metadata": {
    "scrolled": false
   },
   "outputs": [],
   "source": [
    "df_results = pd.read_csv('output/green_tripdata_2021-03.csv', sep=';')\n",
    "\n",
    "y_true = df_results['actual_duration']\n",
    "y_pred = df_results['predicted_duration']"
   ]
  },
  {
   "cell_type": "code",
   "execution_count": 40,
   "metadata": {},
   "outputs": [
    {
     "data": {
      "text/plain": [
       "<matplotlib.axes._subplots.AxesSubplot at 0x234ae77c2e0>"
      ]
     },
     "execution_count": 40,
     "metadata": {},
     "output_type": "execute_result"
    },
    {
     "data": {
      "image/png": "[encoded data removed]",
      "text/plain": [
       "<Figure size 432x288 with 1 Axes>"
      ]
     },
     "metadata": {
      "needs_background": "light"
     },
     "output_type": "display_data"
    }
   ],
   "source": [
    "import seaborn as sns\n",
    "\n",
    "sns.distplot(y_true, color='red')\n",
    "sns.distplot(y_pred, color='blue')"
   ]
  },
  {
   "cell_type": "code",
   "execution_count": 41,
   "metadata": {},
   "outputs": [
    {
     "data": {
      "text/plain": [
       "10.531285218710012"
      ]
     },
     "execution_count": 41,
     "metadata": {},
     "output_type": "execute_result"
    }
   ],
   "source": [
    "from sklearn.metrics import mean_squared_error\n",
    "\n",
    "mean_squared_error(y_true, y_pred, squared=False)"
   ]
  },
  {
   "cell_type": "code",
   "execution_count": null,
   "metadata": {},
   "outputs": [],
   "source": []
  }
 ],
 "metadata": {
  "kernelspec": {
   "display_name": "Python 3",
   "language": "python",
   "name": "python3"
  },
  "language_info": {
   "codemirror_mode": {
    "name": "ipython",
    "version": 3
   },
   "file_extension": ".py",
   "mimetype": "text/x-python",
   "name": "python",
   "nbconvert_exporter": "python",
   "pygments_lexer": "ipython3",
   "version": "3.8.3"
  }
 },
 "nbformat": 4,
 "nbformat_minor": 4
}
