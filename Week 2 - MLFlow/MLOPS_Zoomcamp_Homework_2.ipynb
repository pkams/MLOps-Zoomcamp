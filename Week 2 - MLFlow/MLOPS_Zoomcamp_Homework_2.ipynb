{
 "cells": [
  {
   "cell_type": "markdown",
   "metadata": {},
   "source": [
    "### Q1. Install MLflow\n",
    "What's the version that you have?"
   ]
  },
  {
   "cell_type": "code",
   "execution_count": 2,
   "metadata": {},
   "outputs": [
    {
     "data": {
      "text/plain": [
       "'1.12.1'"
      ]
     },
     "execution_count": 2,
     "metadata": {},
     "output_type": "execute_result"
    }
   ],
   "source": [
    "import mlflow\n",
    "\n",
    "mlflow.__version__"
   ]
  },
  {
   "cell_type": "code",
   "execution_count": 1,
   "metadata": {},
   "outputs": [],
   "source": [
    "!python preprocess_data.py --raw_data_path \"data/raw\" --dest_path ./output"
   ]
  },
  {
   "cell_type": "markdown",
   "metadata": {},
   "source": [
    "### Q2. Download and preprocess the data\n",
    "How many files were saved to OUTPUT_FOLDER?\n",
    "- 1\n",
    "- 3\n",
    "- 4 [X]\n",
    "- 7"
   ]
  },
  {
   "cell_type": "code",
   "execution_count": 4,
   "metadata": {},
   "outputs": [
    {
     "name": "stderr",
     "output_type": "stream",
     "text": [
      "C:\\Users\\Usuario\\anaconda3\\lib\\site-packages\\win32\\lib\\pywintypes.py:2: DeprecationWarning: the imp module is deprecated in favour of importlib; see the module's documentation for alternative uses\n",
      "  import imp, sys, os\n",
      "2022/05/25 17:27:22 INFO mlflow.tracking.fluent: Autologging successfully enabled for sklearn.\n",
      "2022/05/25 17:27:49 WARNING mlflow.sklearn: Failed to infer model signature: Expected one of (pandas.DataFrame, numpy array, dictionary of (name -> numpy.ndarray), pyspark.sql.DataFrame) but got '<class 'scipy.sparse.csr.csr_matrix'>'\n"
     ]
    }
   ],
   "source": [
    "!python train.py --data_path \"./output\""
   ]
  },
  {
   "cell_type": "markdown",
   "metadata": {},
   "source": [
    "### Q3. Train a model with autolog\n",
    "\n",
    "How many parameters are automatically logged by MLflow?\n",
    "- 19\n",
    "- 17 [X]\n",
    "- 10\n",
    "- 20\n",
    "\n",
    "18[X]"
   ]
  },
  {
   "cell_type": "markdown",
   "metadata": {},
   "source": [
    "### Q4. Launch the tracking server locally\n",
    "In addition to backend-store-uri, what else do you need to pass to properly configure the server?\n",
    "\n",
    "- default-artifact-root [X]\n",
    "- serve-artifacts\n",
    "- artifacts-only\n",
    "- artifacts-destination"
   ]
  },
  {
   "cell_type": "code",
   "execution_count": 71,
   "metadata": {},
   "outputs": [
    {
     "name": "stdout",
     "output_type": "stream",
     "text": [
      "\n",
      "  0%|          | 0/50 [00:00<?, ?trial/s, best loss=?]\n",
      "  2%|2         | 1/50 [00:04<03:38,  4.46s/trial, best loss: 6.7485836278933995]\n",
      "  4%|4         | 2/50 [00:09<03:44,  4.69s/trial, best loss: 6.720035064969944] \n",
      "  6%|6         | 3/50 [00:36<08:57, 11.43s/trial, best loss: 6.6321065477812615]\n",
      "  8%|8         | 4/50 [00:42<07:30,  9.80s/trial, best loss: 6.6321065477812615]\n",
      " 10%|#         | 5/50 [01:08<10:49, 14.43s/trial, best loss: 6.6321065477812615]\n",
      " 12%|#2        | 6/50 [01:30<12:18, 16.79s/trial, best loss: 6.6321065477812615]\n",
      " 14%|#4        | 7/50 [01:34<09:15, 12.91s/trial, best loss: 6.6321065477812615]\n"
     ]
    },
    {
     "name": "stderr",
     "output_type": "stream",
     "text": [
      "C:\\Users\\Usuario\\anaconda3\\lib\\site-packages\\win32\\lib\\pywintypes.py:2: DeprecationWarning: the imp module is deprecated in favour of importlib; see the module's documentation for alternative uses\n",
      "  import imp, sys, os\n"
     ]
    },
    {
     "name": "stdout",
     "output_type": "stream",
     "text": [
      " 16%|#6        | 8/50 [01:55<10:42, 15.29s/trial, best loss: 6.6321065477812615]\n",
      " 18%|#8        | 9/50 [02:11<10:41, 15.64s/trial, best loss: 6.6321065477812615]\n",
      " 20%|##        | 10/50 [02:21<09:20, 14.02s/trial, best loss: 6.6321065477812615]\n",
      " 22%|##2       | 11/50 [02:23<06:42, 10.31s/trial, best loss: 6.6321065477812615]\n",
      " 24%|##4       | 12/50 [02:36<07:07, 11.26s/trial, best loss: 6.6321065477812615]\n",
      " 26%|##6       | 13/50 [02:43<06:05,  9.89s/trial, best loss: 6.6321065477812615]\n",
      " 28%|##8       | 14/50 [02:49<05:14,  8.74s/trial, best loss: 6.6321065477812615]\n",
      " 30%|###       | 15/50 [02:58<05:07,  8.78s/trial, best loss: 6.6321065477812615]\n",
      " 32%|###2      | 16/50 [03:14<06:10, 10.89s/trial, best loss: 6.6321065477812615]\n",
      " 34%|###4      | 17/50 [03:36<07:48, 14.20s/trial, best loss: 6.6321065477812615]\n",
      " 36%|###6      | 18/50 [03:56<08:36, 16.15s/trial, best loss: 6.6321065477812615]\n",
      " 38%|###8      | 19/50 [04:06<07:22, 14.28s/trial, best loss: 6.6321065477812615]\n",
      " 40%|####      | 20/50 [04:07<05:07, 10.24s/trial, best loss: 6.6321065477812615]\n",
      " 42%|####2     | 21/50 [04:16<04:45,  9.83s/trial, best loss: 6.6321065477812615]\n",
      " 44%|####4     | 22/50 [04:44<07:08, 15.32s/trial, best loss: 6.631612661573312] \n",
      " 46%|####6     | 23/50 [05:14<08:48, 19.58s/trial, best loss: 6.631612661573312]\n",
      " 48%|####8     | 24/50 [05:32<08:16, 19.10s/trial, best loss: 6.631612661573312]\n",
      " 50%|#####     | 25/50 [06:09<10:13, 24.55s/trial, best loss: 6.6269355484358705]\n",
      " 52%|#####2    | 26/50 [06:26<08:53, 22.24s/trial, best loss: 6.6269355484358705]\n",
      " 54%|#####4    | 27/50 [06:28<06:15, 16.31s/trial, best loss: 6.6269355484358705]\n",
      " 56%|#####6    | 28/50 [06:43<05:51, 15.96s/trial, best loss: 6.6269355484358705]\n",
      " 58%|#####8    | 29/50 [07:00<05:40, 16.23s/trial, best loss: 6.6269355484358705]\n",
      " 60%|######    | 30/50 [07:11<04:51, 14.58s/trial, best loss: 6.6269355484358705]\n",
      " 62%|######2   | 31/50 [07:22<04:17, 13.57s/trial, best loss: 6.6269355484358705]\n",
      " 64%|######4   | 32/50 [07:32<03:41, 12.29s/trial, best loss: 6.6269355484358705]\n",
      " 66%|######6   | 33/50 [07:50<04:00, 14.15s/trial, best loss: 6.6269355484358705]\n",
      " 68%|######8   | 34/50 [07:56<03:07, 11.70s/trial, best loss: 6.6269355484358705]\n",
      " 70%|#######   | 35/50 [08:10<03:05, 12.37s/trial, best loss: 6.6269355484358705]\n",
      " 72%|#######2  | 36/50 [08:28<03:17, 14.10s/trial, best loss: 6.6269355484358705]\n",
      " 74%|#######4  | 37/50 [08:29<02:12, 10.16s/trial, best loss: 6.6269355484358705]\n",
      " 76%|#######6  | 38/50 [08:32<01:36,  8.02s/trial, best loss: 6.6269355484358705]\n",
      " 78%|#######8  | 39/50 [08:41<01:29,  8.17s/trial, best loss: 6.6269355484358705]\n",
      " 80%|########  | 40/50 [09:00<01:55, 11.56s/trial, best loss: 6.6269355484358705]\n",
      " 82%|########2 | 41/50 [09:21<02:08, 14.32s/trial, best loss: 6.6269355484358705]\n",
      " 84%|########4 | 42/50 [09:27<01:35, 11.97s/trial, best loss: 6.6269355484358705]\n",
      " 86%|########6 | 43/50 [09:39<01:23, 11.93s/trial, best loss: 6.6269355484358705]\n",
      " 88%|########8 | 44/50 [09:54<01:16, 12.71s/trial, best loss: 6.6269355484358705]\n",
      " 90%|######### | 45/50 [10:09<01:08, 13.64s/trial, best loss: 6.6269355484358705]\n",
      " 92%|#########2| 46/50 [10:13<00:42, 10.65s/trial, best loss: 6.6269355484358705]\n",
      " 94%|#########3| 47/50 [10:37<00:43, 14.51s/trial, best loss: 6.6269355484358705]\n",
      " 96%|#########6| 48/50 [10:51<00:28, 14.45s/trial, best loss: 6.6269355484358705]\n",
      " 98%|#########8| 49/50 [10:55<00:11, 11.28s/trial, best loss: 6.6269355484358705]\n",
      "100%|##########| 50/50 [11:12<00:00, 13.13s/trial, best loss: 6.6269355484358705]\n",
      "100%|##########| 50/50 [11:12<00:00, 13.46s/trial, best loss: 6.6269355484358705]\n"
     ]
    }
   ],
   "source": [
    "!python hpo.py"
   ]
  },
  {
   "cell_type": "markdown",
   "metadata": {},
   "source": [
    "### Q5. Tune the hyperparameters of the model\n",
    "\n",
    "What's the best validation RMSE that you got?\n",
    "\n",
    "- 6.128\n",
    "- 6.628 [X]\n",
    "- 7.128\n",
    "- 7.628"
   ]
  },
  {
   "cell_type": "code",
   "execution_count": 94,
   "metadata": {},
   "outputs": [],
   "source": [
    "import mlflow\n",
    "from mlflow.tracking import MlflowClient\n",
    "from mlflow.entities import ViewType\n",
    "\n",
    "mlflow.set_tracking_uri('sqlite:///mlflow.db') # set the database\n",
    "\n",
    "client = MlflowClient()\n",
    "HPO_EXPERIMENT_NAME = \"random-forest-hyperopt\"\n",
    "EXPERIMENT_NAME = \"random-forest-best-models\"\n",
    "\n",
    "experiment = client.get_experiment_by_name(HPO_EXPERIMENT_NAME)\n",
    "runs = client.search_runs(\n",
    "    experiment_ids=experiment.experiment_id,\n",
    "    run_view_type=ViewType.ACTIVE_ONLY,\n",
    "    order_by=[\"metrics.rmse ASC\"]\n",
    ")"
   ]
  },
  {
   "cell_type": "code",
   "execution_count": 95,
   "metadata": {},
   "outputs": [
    {
     "name": "stdout",
     "output_type": "stream",
     "text": [
      "run id: 125723362acc4b749e630dc37ab0e169, rmse: 6.6269\n",
      "run id: 908872bea82d4c518ff8c156c6740bac, rmse: 6.6280\n",
      "run id: 6394e08cc2034b7aafdb9de43523d56c, rmse: 6.6297\n",
      "run id: c1bdcc6ccc554eb68f7de6ad8520955e, rmse: 6.6299\n",
      "run id: 84e1d5ce2b2342c8a55b1c3266867572, rmse: 6.6316\n",
      "run id: f9e8b579494d414c8e2e7c8c4b34a8d8, rmse: 6.6321\n",
      "run id: 4df726f11a6a495597199a78204a3149, rmse: 6.6377\n",
      "run id: 1732a67016184b3285d1669889482ed2, rmse: 6.6379\n",
      "run id: a64cead3f01d469f9c86f9d1a02399e2, rmse: 6.6388\n",
      "run id: 671ae4ab78fd49a4800906ac541a1783, rmse: 6.6389\n",
      "run id: 4bd4aa1ac62642cd81923a5cc3d1181b, rmse: 6.6391\n",
      "run id: 160add6c831b42e2b86e04c4674217ab, rmse: 6.6392\n",
      "run id: 18eaa2e544de4203984f3ebdd5c4937b, rmse: 6.6410\n",
      "run id: 90a0ca0f03da4db89055195b4dd4b69f, rmse: 6.6425\n",
      "run id: 67dde2c42cd6492bb2f0c4a247ea44dc, rmse: 6.6445\n",
      "run id: 113014b11f0b429688aecb346e142ac6, rmse: 6.6445\n",
      "run id: 50ef5f69d77a4821a2e6ecdc61af2f1f, rmse: 6.6447\n",
      "run id: 1e3d251e2e634356b93fbccda5c8aa69, rmse: 6.6454\n",
      "run id: d655fd355bd247d5a3322af1a444638d, rmse: 6.6483\n",
      "run id: def9996712054db084a991ad7bf79b3e, rmse: 6.6495\n",
      "run id: eddeb7a00f5e4cdc8a751bd7ac88382a, rmse: 6.6500\n",
      "run id: a98a5079ea654930b3143ea8e0e723e6, rmse: 6.6518\n",
      "run id: 796c882d0cb946cd9404004daa0d26ea, rmse: 6.6556\n",
      "run id: 5403a5ed7fa641f2a19179d708498454, rmse: 6.6562\n",
      "run id: b91555b6d94c4660bc183c0916fa575b, rmse: 6.6584\n",
      "run id: 5d342b2c894b41f7964456859c28d244, rmse: 6.6660\n",
      "run id: e541c7925d8a4de98a3051963f984da6, rmse: 6.6664\n",
      "run id: 6c8b45c7de1445fea94436f05a82f11b, rmse: 6.6707\n",
      "run id: e1f3697acd2149de9ace8d69c0bc8742, rmse: 6.6708\n",
      "run id: 40bd5e4eb7c34d3b8d9801ffd9e4f1f9, rmse: 6.6714\n",
      "run id: ad0ea2f4ece74b2a837ed6bbaf299fd9, rmse: 6.6827\n",
      "run id: 8946ce8237bc48d985a223c1c39d2b3e, rmse: 6.6883\n",
      "run id: ddd26d9ed5874a24836d294b67edce36, rmse: 6.6936\n",
      "run id: 86cfd1b431c24dd6af268208625a9918, rmse: 6.6946\n",
      "run id: 3f0c4da8581344ca894f600af9ce0393, rmse: 6.7026\n",
      "run id: 7238d32544bf40f4a4d4cc896601842c, rmse: 6.7056\n",
      "run id: da50b5d91fab4a7aa1f9b7e55aa90fa5, rmse: 6.7095\n",
      "run id: e82da88ee50b45a48543e0fe472baf87, rmse: 6.7107\n",
      "run id: 6bbf77625a794e9ebc6f7eb6f00cc1af, rmse: 6.7159\n",
      "run id: ae0c58c20cee4fb79b6e380e043ea4c8, rmse: 6.7200\n",
      "run id: a7af2f823e1445d99fb6a2240222d3cb, rmse: 6.7206\n",
      "run id: e14bda0286794460b32beeffa9a6be50, rmse: 6.7353\n",
      "run id: c76b54d0cd6a4915b4584bf0283a0c5f, rmse: 6.7408\n",
      "run id: 45d1a4c891eb4c409fd7f1405ec0ef2c, rmse: 6.7486\n",
      "run id: 932313efa1ae4716813cd53915fbca65, rmse: 6.7736\n",
      "run id: d3345c16ccdc4112a1833d0e3ddcfd0a, rmse: 6.7852\n",
      "run id: 5aa8b9d441a24b0a8401366d207d27f8, rmse: 6.8489\n",
      "run id: 5dd2e684e80440059698c349a0ea9a6a, rmse: 7.0460\n",
      "run id: 491110a429c9478eab444ca38ad981e0, rmse: 7.4473\n",
      "run id: e5b9a9cdcaf34cce9f4634173e8a62a9, rmse: 8.8318\n"
     ]
    }
   ],
   "source": [
    "for run in runs:\n",
    "    try:\n",
    "        print(f\"run id: {run.info.run_id}, rmse: {run.data.metrics['rmse']:.4f}\")\n",
    "    except:\n",
    "        pass"
   ]
  },
  {
   "cell_type": "code",
   "execution_count": 92,
   "metadata": {},
   "outputs": [
    {
     "data": {
      "text/plain": [
       "[]"
      ]
     },
     "execution_count": 92,
     "metadata": {},
     "output_type": "execute_result"
    }
   ],
   "source": [
    "client.search_runs(runs[0])"
   ]
  },
  {
   "cell_type": "code",
   "execution_count": 97,
   "metadata": {},
   "outputs": [],
   "source": [
    "run_id = runs[0].to_dictionary()['info']['run_id']"
   ]
  },
  {
   "cell_type": "code",
   "execution_count": 99,
   "metadata": {},
   "outputs": [
    {
     "data": {
      "text/plain": [
       "'runs:/b8904012c84343b5bf8ee72aa8f0f402/models_pickle'"
      ]
     },
     "execution_count": 99,
     "metadata": {},
     "output_type": "execute_result"
    }
   ],
   "source": [
    "run_id = \"b8904012c84343b5bf8ee72aa8f0f402\"\n",
    "model_uri = f\"runs:/{run_id}/models_pickle\"\n",
    "\n",
    "model_uri"
   ]
  },
  {
   "cell_type": "code",
   "execution_count": 101,
   "metadata": {},
   "outputs": [
    {
     "name": "stderr",
     "output_type": "stream",
     "text": [
      "C:\\Users\\Usuario\\anaconda3\\lib\\site-packages\\win32\\lib\\pywintypes.py:2: DeprecationWarning: the imp module is deprecated in favour of importlib; see the module's documentation for alternative uses\n",
      "  import imp, sys, os\n",
      "2022/05/25 21:20:53 WARNING mlflow.sklearn: Failed to infer model signature: Expected one of (pandas.DataFrame, numpy array, dictionary of (name -> numpy.ndarray), pyspark.sql.DataFrame) but got '<class 'scipy.sparse.csr.csr_matrix'>'\n",
      "2022/05/25 21:21:19 WARNING mlflow.sklearn: Failed to infer model signature: Expected one of (pandas.DataFrame, numpy array, dictionary of (name -> numpy.ndarray), pyspark.sql.DataFrame) but got '<class 'scipy.sparse.csr.csr_matrix'>'\n",
      "2022/05/25 21:21:36 WARNING mlflow.sklearn: Failed to infer model signature: Expected one of (pandas.DataFrame, numpy array, dictionary of (name -> numpy.ndarray), pyspark.sql.DataFrame) but got '<class 'scipy.sparse.csr.csr_matrix'>'\n",
      "2022/05/25 21:21:53 WARNING mlflow.sklearn: Failed to infer model signature: Expected one of (pandas.DataFrame, numpy array, dictionary of (name -> numpy.ndarray), pyspark.sql.DataFrame) but got '<class 'scipy.sparse.csr.csr_matrix'>'\n",
      "2022/05/25 21:22:22 WARNING mlflow.sklearn: Failed to infer model signature: Expected one of (pandas.DataFrame, numpy array, dictionary of (name -> numpy.ndarray), pyspark.sql.DataFrame) but got '<class 'scipy.sparse.csr.csr_matrix'>'\n",
      "Registered model 'nyc-taxi-regressor' already exists. Creating a new version of this model...\n",
      "2022/05/25 21:22:24 INFO mlflow.tracking._model_registry.client: Waiting up to 300 seconds for model version to finish creation.                     Model name: nyc-taxi-regressor, version 1\n",
      "Created version '1' of model 'nyc-taxi-regressor'.\n"
     ]
    }
   ],
   "source": [
    "!python register_model.py"
   ]
  },
  {
   "cell_type": "markdown",
   "metadata": {},
   "source": [
    "### Q6. Promote the best model to the model registry\n",
    "\n",
    "- 6.1\n",
    "- 6.55 [X]\n",
    "- 7.93\n",
    "- 15.1"
   ]
  },
  {
   "cell_type": "code",
   "execution_count": null,
   "metadata": {},
   "outputs": [],
   "source": []
  }
 ],
 "metadata": {
  "kernelspec": {
   "display_name": "Python 3",
   "language": "python",
   "name": "python3"
  },
  "language_info": {
   "codemirror_mode": {
    "name": "ipython",
    "version": 3
   },
   "file_extension": ".py",
   "mimetype": "text/x-python",
   "name": "python",
   "nbconvert_exporter": "python",
   "pygments_lexer": "ipython3",
   "version": "3.8.3"
  }
 },
 "nbformat": 4,
 "nbformat_minor": 4
}
