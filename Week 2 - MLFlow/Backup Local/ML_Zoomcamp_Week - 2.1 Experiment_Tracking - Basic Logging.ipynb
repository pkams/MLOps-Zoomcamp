{
 "cells": [
  {
   "cell_type": "code",
   "execution_count": 1,
   "metadata": {
    "id": "SvEj6P2VdYs3"
   },
   "outputs": [],
   "source": [
    "import pandas as pd\n",
    "from sklearn.linear_model import LinearRegression, Lasso\n",
    "import mlflow"
   ]
  },
  {
   "cell_type": "code",
   "execution_count": 4,
   "metadata": {},
   "outputs": [
    {
     "name": "stdout",
     "output_type": "stream",
     "text": [
      "INFO: 'my-brand-new-experiment' does not exist. Creating a new experiment\n"
     ]
    }
   ],
   "source": [
    "mlflow.set_tracking_uri('sqlite:///mlflow.db') # set the database\n",
    "mlflow.set_experiment('my-brand-new-experiment') # create the experiment if not exists"
   ]
  },
  {
   "cell_type": "code",
   "execution_count": 42,
   "metadata": {
    "id": "qJl9Oj0AlEbW"
   },
   "outputs": [],
   "source": [
    "def read_dataframe(path):\n",
    "  df = pd.read_parquet(path)\n",
    "  df.lpep_pickup_datetime = pd.to_datetime(df.lpep_pickup_datetime)\n",
    "  df.lpep_dropoff_datetime = pd.to_datetime(df.lpep_dropoff_datetime)\n",
    "  df['duration'] = (df.lpep_dropoff_datetime - df.lpep_pickup_datetime).dt.seconds / 60\n",
    "\n",
    "  df = df[((df.duration >=1) & (df.duration <=60))]\n",
    "  return df"
   ]
  },
  {
   "cell_type": "code",
   "execution_count": 31,
   "metadata": {
    "id": "2y7CooUplbJg"
   },
   "outputs": [],
   "source": [
    "df_train = read_dataframe('green_tripdata_2021-01.parquet')\n",
    "df_val = read_dataframe('green_tripdata_2021-02.parquet')"
   ]
  },
  {
   "cell_type": "code",
   "execution_count": 32,
   "metadata": {
    "colab": {
     "base_uri": "https://localhost:8080/"
    },
    "id": "AmzLioURlqEz",
    "outputId": "81e6d940-06e3-4465-b7a6-b2a366683fd0"
   },
   "outputs": [
    {
     "data": {
      "text/plain": [
       "(73908, 61921)"
      ]
     },
     "execution_count": 32,
     "metadata": {},
     "output_type": "execute_result"
    }
   ],
   "source": [
    "len(df_train), len(df_val)"
   ]
  },
  {
   "cell_type": "code",
   "execution_count": 33,
   "metadata": {
    "id": "oJ6VkcQhkmVt"
   },
   "outputs": [],
   "source": [
    "categorical = ['PULocationID', 'DOLocationID']\n",
    "numerical = ['trip_distance']\n",
    "\n",
    "df_train[categorical] = df_train[categorical].astype(str)\n",
    "df_val[categorical] = df_val[categorical].astype(str)\n",
    "\n",
    "dv = DictVectorizer()\n",
    "\n",
    "train_dicts = df_train[categorical + numerical].to_dict(orient='records')\n",
    "X_train = dv.fit_transform(train_dicts)\n",
    "\n",
    "valid_dicts = df_val[categorical + numerical].to_dict(orient='records')\n",
    "X_val = dv.transform(valid_dicts)"
   ]
  },
  {
   "cell_type": "code",
   "execution_count": 43,
   "metadata": {
    "colab": {
     "base_uri": "https://localhost:8080/"
    },
    "id": "CqOePhIYmBlU",
    "outputId": "a4ffbc44-c358-4dcc-920a-723d7906ba4d"
   },
   "outputs": [],
   "source": [
    "target = 'duration'\n",
    "\n",
    "y_train = df_train[target].values\n",
    "y_val = df_val[target].values"
   ]
  },
  {
   "cell_type": "code",
   "execution_count": 49,
   "metadata": {},
   "outputs": [],
   "source": [
    "with mlflow.start_run():\n",
    "\n",
    "            mlflow.set_tag(\"developer\", \"patrick\") \n",
    "            mlflow.log_param(\"train-data-path\", \"green_trip_data_2021-01.csv\")\n",
    "            mlflow.log_param(\"train-val-path\", \"green_trip_data_2021-02.csv\")\n",
    "\n",
    "            alpha = 0.005\n",
    "            mlflow.log_param(\"alpha\", alpha)\n",
    "\n",
    "            lr = Lasso(alpha)\n",
    "            lr.fit(X_train, y_train)\n",
    "\n",
    "            y_pred = lr.predict(X_val)\n",
    "\n",
    "            rmse = mean_squared_error(y_val, y_pred, squared=False)\n",
    "            mlflow.log_param(\"rmse\", rmse)"
   ]
  },
  {
   "cell_type": "code",
   "execution_count": 48,
   "metadata": {},
   "outputs": [],
   "source": [
    "for alpha in [0.1, 0.01, 0.001]:\n",
    "\n",
    "    with mlflow.start_run():\n",
    "\n",
    "            mlflow.set_tag(\"developer\", \"patrick\") \n",
    "            mlflow.log_param(\"train-data-path\", \"green_trip_data_2021-01.csv\")\n",
    "            mlflow.log_param(\"train-val-path\", \"green_trip_data_2021-02.csv\")\n",
    "\n",
    "            mlflow.log_param(\"alpha\", alpha)\n",
    "\n",
    "            lr = Lasso(alpha)\n",
    "            lr.fit(X_train, y_train)\n",
    "\n",
    "            y_pred = lr.predict(X_val)\n",
    "\n",
    "            rmse = mean_squared_error(y_val, y_pred, squared=False)\n",
    "            mlflow.log_param(\"rmse\", rmse)"
   ]
  },
  {
   "cell_type": "code",
   "execution_count": null,
   "metadata": {
    "id": "nlOFu5lwobNj"
   },
   "outputs": [],
   "source": []
  }
 ],
 "metadata": {
  "colab": {
   "name": "ML Zoomcamp - Week 1 - Training a Model.ipynb",
   "provenance": []
  },
  "kernelspec": {
   "display_name": "Python 3",
   "language": "python",
   "name": "python3"
  },
  "language_info": {
   "codemirror_mode": {
    "name": "ipython",
    "version": 3
   },
   "file_extension": ".py",
   "mimetype": "text/x-python",
   "name": "python",
   "nbconvert_exporter": "python",
   "pygments_lexer": "ipython3",
   "version": "3.8.3"
  }
 },
 "nbformat": 4,
 "nbformat_minor": 1
}
